{
  "nbformat": 4,
  "nbformat_minor": 0,
  "metadata": {
    "colab": {
      "provenance": [],
      "collapsed_sections": []
    },
    "kernelspec": {
      "name": "python3",
      "display_name": "Python 3"
    },
    "language_info": {
      "name": "python"
    }
  },
  "cells": [
    {
      "cell_type": "code",
      "source": [
        "# Importing packages\n",
        "\n",
        "import tensorflow as tf\n",
        "from tensorflow.keras import datasets, layers, models\n",
        "import matplotlib.pyplot as plt\n",
        "import numpy as np\n",
        "\n",
        "tf.compat.v1.logging.set_verbosity(tf.compat.v1.logging.ERROR)"
      ],
      "metadata": {
        "id": "D-x-rY6FQ4v0"
      },
      "execution_count": 1,
      "outputs": []
    },
    {
      "cell_type": "code",
      "source": [
        "# Loading cifar10 dataset\n",
        "(train_images, train_labels), (test_images, test_labels) = datasets.cifar10.load_data()\n",
        "\n",
        "# Normalizing pixel values to be between 0 and 1\n",
        "train_images, test_images = train_images / 255.0, test_images / 255.0\n",
        "\n",
        "# CNN model\n",
        "model = models.Sequential()\n",
        "model.add(layers.Conv2D(32, (3, 3), activation='relu', input_shape=(32, 32, 3)))\n",
        "model.add(layers.MaxPooling2D((2, 2)))\n",
        "model.add(layers.Conv2D(64, (3, 3), activation='relu'))\n",
        "model.add(layers.MaxPooling2D((2, 2)))\n",
        "model.add(layers.Conv2D(64, (3, 3), activation='relu'))\n",
        "model.add(layers.Flatten())\n",
        "model.add(layers.Dense(64, activation='relu'))\n",
        "model.add(layers.Dense(10))\n",
        "\n",
        "# Compiling the model\n",
        "model.compile(optimizer='adam',\n",
        "                loss=tf.keras.losses.SparseCategoricalCrossentropy(from_logits=True),\n",
        "                metrics=['accuracy'])\n",
        "\n",
        "# Training the model\n",
        "model.fit(train_images, train_labels, epochs=10)\n",
        "\n",
        "# Evaluate the model\n",
        "test_loss, test_acc = model.evaluate(test_images, test_labels, verbose=2)\n",
        "print(test_acc)"
      ],
      "metadata": {
        "id": "cz6KiH_VA2-X",
        "colab": {
          "base_uri": "https://localhost:8080/"
        },
        "outputId": "5d1ad5aa-8561-49bf-c84b-8d8739e44974"
      },
      "execution_count": 2,
      "outputs": [
        {
          "output_type": "stream",
          "name": "stdout",
          "text": [
            "Epoch 1/10\n",
            "1563/1563 [==============================] - 87s 55ms/step - loss: 1.5529 - accuracy: 0.4333\n",
            "Epoch 2/10\n",
            "1563/1563 [==============================] - 84s 53ms/step - loss: 1.1587 - accuracy: 0.5910\n",
            "Epoch 3/10\n",
            "1563/1563 [==============================] - 84s 54ms/step - loss: 1.0027 - accuracy: 0.6464\n",
            "Epoch 4/10\n",
            "1563/1563 [==============================] - 86s 55ms/step - loss: 0.9136 - accuracy: 0.6777\n",
            "Epoch 5/10\n",
            "1563/1563 [==============================] - 85s 54ms/step - loss: 0.8449 - accuracy: 0.7048\n",
            "Epoch 6/10\n",
            "1563/1563 [==============================] - 84s 54ms/step - loss: 0.7859 - accuracy: 0.7242\n",
            "Epoch 7/10\n",
            "1563/1563 [==============================] - 85s 54ms/step - loss: 0.7429 - accuracy: 0.7401\n",
            "Epoch 8/10\n",
            "1563/1563 [==============================] - 88s 57ms/step - loss: 0.7030 - accuracy: 0.7547\n",
            "Epoch 9/10\n",
            "1563/1563 [==============================] - 85s 54ms/step - loss: 0.6673 - accuracy: 0.7664\n",
            "Epoch 10/10\n",
            "1563/1563 [==============================] - 85s 55ms/step - loss: 0.6290 - accuracy: 0.7820\n",
            "313/313 - 5s - loss: 0.8983 - accuracy: 0.7016 - 5s/epoch - 15ms/step\n",
            "0.7016000151634216\n"
          ]
        }
      ]
    },
    {
      "cell_type": "code",
      "source": [
        "# Plotting the original image\n",
        "\n",
        "plt.plot()\n",
        "plt.imshow(train_images[0])\n",
        "plt.show()"
      ],
      "metadata": {
        "colab": {
          "base_uri": "https://localhost:8080/",
          "height": 266
        },
        "id": "t0pjk5PddyWr",
        "outputId": "b454b639-a7cd-4d29-e8b9-636d7e372c8a"
      },
      "execution_count": 6,
      "outputs": [
        {
          "output_type": "display_data",
          "data": {
            "text/plain": [
              "<Figure size 432x288 with 1 Axes>"
            ],
            "image/png": "[encoded data removed]"
          },
          "metadata": {
            "needs_background": "light"
          }
        }
      ]
    },
    {
      "cell_type": "code",
      "source": [
        "# Use any two augmentation techniques to improve the test accuracy. Should plot \n",
        "# one example of each augmentation technique. \n",
        "# 1. Random rotation\n",
        "# 2. Random zoom\n",
        "\n",
        "# 1. Random rotation\n",
        "data_augmentation_rotate = tf.keras.Sequential([\n",
        "    layers.experimental.preprocessing.RandomRotation(0.2),\n",
        "])\n",
        "\n",
        "plt.plot()\n",
        "plt.imshow(data_augmentation_rotate(train_images)[0])\n",
        "plt.show()\n",
        "\n",
        "# 2. Random zoom\n",
        "data_augmentation_zoom = tf.keras.Sequential([\n",
        "    layers.experimental.preprocessing.RandomZoom(0.2),\n",
        "])\n",
        "\n",
        "plt.plot()\n",
        "plt.imshow(data_augmentation_zoom(train_images)[0])\n",
        "plt.show()\n",
        "\n",
        "# Use the model to predict the label of the first 10 images in the test dataset.\n",
        "# Print the predicted label and the true label for each image.\n",
        "\n",
        "# Predict the label of the first 10 images in the test dataset\n",
        "predictions = model.predict(test_images[:10])\n",
        "\n",
        "# Print the predicted label and the true label for each image\n",
        "for i in range(10):\n",
        "    print(\"Predicted label: \", predictions[i].argmax(), \"True label: \", test_labels[i])"
      ],
      "metadata": {
        "id": "_vLWkTpnFBeA",
        "colab": {
          "base_uri": "https://localhost:8080/",
          "height": 712
        },
        "outputId": "179baef3-b45c-4e79-b218-264b3cf405c9"
      },
      "execution_count": 3,
      "outputs": [
        {
          "output_type": "display_data",
          "data": {
            "text/plain": [
              "<Figure size 432x288 with 1 Axes>"
            ],
            "image/png": "[encoded data removed]"
          },
          "metadata": {
            "needs_background": "light"
          }
        },
        {
          "output_type": "display_data",
          "data": {
            "text/plain": [
              "<Figure size 432x288 with 1 Axes>"
            ],
            "image/png": "[encoded data removed]"
          },
          "metadata": {
            "needs_background": "light"
          }
        },
        {
          "output_type": "stream",
          "name": "stdout",
          "text": [
            "1/1 [==============================] - 0s 110ms/step\n",
            "Predicted label:  5 True label:  [3]\n",
            "Predicted label:  8 True label:  [8]\n",
            "Predicted label:  8 True label:  [8]\n",
            "Predicted label:  0 True label:  [0]\n",
            "Predicted label:  6 True label:  [6]\n",
            "Predicted label:  6 True label:  [6]\n",
            "Predicted label:  1 True label:  [1]\n",
            "Predicted label:  2 True label:  [6]\n",
            "Predicted label:  7 True label:  [3]\n",
            "Predicted label:  1 True label:  [1]\n"
          ]
        }
      ]
    },
    {
      "cell_type": "code",
      "source": [
        "# Expand the training dataset\n",
        "train_images = np.concatenate((train_images, data_augmentation_rotate(train_images)), axis=0)\n",
        "train_images = np.concatenate((train_images, data_augmentation_zoom(train_images)), axis=0)\n",
        "train_labels = np.concatenate((train_labels, train_labels), axis=0)\n",
        "train_labels = np.concatenate((train_labels, train_labels), axis=0)\n",
        "\n",
        "# Train the model with the new data concatenated\n",
        "model.fit(train_images, train_labels, epochs=10)\n",
        "\n",
        "# Evaluate the model\n",
        "test_loss, test_acc = model.evaluate(test_images, test_labels, verbose=2)\n",
        "print(test_acc)\n"
      ],
      "metadata": {
        "id": "Wx8FjUfdNtqU",
        "colab": {
          "base_uri": "https://localhost:8080/"
        },
        "outputId": "7933d0e8-85ab-48bf-d726-60568787bdd7"
      },
      "execution_count": 4,
      "outputs": [
        {
          "output_type": "stream",
          "name": "stdout",
          "text": [
            "Epoch 1/10\n",
            "6250/6250 [==============================] - 324s 52ms/step - loss: 1.0161 - accuracy: 0.6469\n",
            "Epoch 2/10\n",
            "6250/6250 [==============================] - 335s 54ms/step - loss: 0.9201 - accuracy: 0.6785\n",
            "Epoch 3/10\n",
            "6250/6250 [==============================] - 326s 52ms/step - loss: 0.8607 - accuracy: 0.6991\n",
            "Epoch 4/10\n",
            "6250/6250 [==============================] - 331s 53ms/step - loss: 0.8139 - accuracy: 0.7155\n",
            "Epoch 5/10\n",
            "6250/6250 [==============================] - 327s 52ms/step - loss: 0.7781 - accuracy: 0.7271\n",
            "Epoch 6/10\n",
            "6250/6250 [==============================] - 328s 52ms/step - loss: 0.7443 - accuracy: 0.7391\n",
            "Epoch 7/10\n",
            "6250/6250 [==============================] - 327s 52ms/step - loss: 0.7193 - accuracy: 0.7477\n",
            "Epoch 8/10\n",
            "6250/6250 [==============================] - 334s 53ms/step - loss: 0.6934 - accuracy: 0.7568\n",
            "Epoch 9/10\n",
            "6250/6250 [==============================] - 336s 54ms/step - loss: 0.6723 - accuracy: 0.7636\n",
            "Epoch 10/10\n",
            "6250/6250 [==============================] - 338s 54ms/step - loss: 0.6527 - accuracy: 0.7710\n",
            "313/313 - 5s - loss: 0.9215 - accuracy: 0.7195 - 5s/epoch - 15ms/step\n",
            "0.7195000052452087\n"
          ]
        }
      ]
    },
    {
      "cell_type": "code",
      "source": [
        "# Add dropout regularization to the model. Train the model again and evaluate the\n",
        "# model. Report the test accuracy.\n",
        "\n",
        "# CNN model\n",
        "model = models.Sequential()\n",
        "model.add(layers.Conv2D(32, (3, 3), activation='relu', input_shape=(32, 32, 3)))\n",
        "model.add(layers.MaxPooling2D((2, 2)))\n",
        "model.add(layers.Conv2D(64, (3, 3), activation='relu'))\n",
        "model.add(layers.MaxPooling2D((2, 2)))\n",
        "model.add(layers.Conv2D(64, (3, 3), activation='relu'))\n",
        "model.add(layers.Dropout(0.5))\n",
        "model.add(layers.Flatten())\n",
        "model.add(layers.Dense(64, activation='relu'))\n",
        "model.add(layers.Dense(10))\n",
        "\n",
        "# Compile the model\n",
        "model.compile(optimizer='adam',\n",
        "                loss=tf.keras.losses.SparseCategoricalCrossentropy(from_logits=True),\n",
        "                metrics=['accuracy'])\n",
        "\n",
        "# Training the model\n",
        "model.fit(train_images, train_labels, epochs=10, validation_data=(test_images, test_labels))\n",
        "\n",
        "# Evaluate the model\n",
        "test_loss, test_acc = model.evaluate(test_images, test_labels, verbose=2)\n",
        "print(test_acc)"
      ],
      "metadata": {
        "id": "QIje9FMHBVwn",
        "colab": {
          "base_uri": "https://localhost:8080/"
        },
        "outputId": "1cbe56e6-ab45-4cf5-c368-550e02969fba"
      },
      "execution_count": 9,
      "outputs": [
        {
          "output_type": "stream",
          "name": "stdout",
          "text": [
            "Epoch 1/10\n",
            "6250/6250 [==============================] - 331s 53ms/step - loss: 1.5106 - accuracy: 0.4548 - val_loss: 1.1107 - val_accuracy: 0.6126\n",
            "Epoch 2/10\n",
            "6250/6250 [==============================] - 326s 52ms/step - loss: 1.2435 - accuracy: 0.5580 - val_loss: 1.0301 - val_accuracy: 0.6356\n",
            "Epoch 3/10\n",
            "6250/6250 [==============================] - 328s 52ms/step - loss: 1.1499 - accuracy: 0.5935 - val_loss: 0.9484 - val_accuracy: 0.6691\n",
            "Epoch 4/10\n",
            "6250/6250 [==============================] - 323s 52ms/step - loss: 1.0955 - accuracy: 0.6131 - val_loss: 0.9414 - val_accuracy: 0.6718\n",
            "Epoch 5/10\n",
            "6250/6250 [==============================] - 325s 52ms/step - loss: 1.0531 - accuracy: 0.6284 - val_loss: 0.8788 - val_accuracy: 0.6947\n",
            "Epoch 6/10\n",
            "6250/6250 [==============================] - 329s 53ms/step - loss: 1.0233 - accuracy: 0.6392 - val_loss: 0.8419 - val_accuracy: 0.7084\n",
            "Epoch 7/10\n",
            "6250/6250 [==============================] - 344s 55ms/step - loss: 1.0001 - accuracy: 0.6480 - val_loss: 0.8215 - val_accuracy: 0.7170\n",
            "Epoch 8/10\n",
            "6250/6250 [==============================] - 358s 57ms/step - loss: 0.9789 - accuracy: 0.6555 - val_loss: 0.8678 - val_accuracy: 0.7073\n",
            "Epoch 9/10\n",
            "6250/6250 [==============================] - 343s 55ms/step - loss: 0.9597 - accuracy: 0.6629 - val_loss: 0.7859 - val_accuracy: 0.7309\n",
            "Epoch 10/10\n",
            "6250/6250 [==============================] - 340s 54ms/step - loss: 0.9433 - accuracy: 0.6689 - val_loss: 0.7793 - val_accuracy: 0.7343\n",
            "313/313 - 5s - loss: 0.7793 - accuracy: 0.7343 - 5s/epoch - 15ms/step\n",
            "0.7343000173568726\n"
          ]
        }
      ]
    },
    {
      "cell_type": "markdown",
      "source": [
        "#### Part B - (3)\n",
        "\n",
        "The test accuracy increased when adding data augmentation to the model. There can be numerous explanations for this increase. One explanation is that the data augmented data is concatenated to the original model for both random rotation and zoom augmentation. This triples the size of the data set as apparent in the epoch print-outs. By running the chosen data augmentation methods on the dataset, we artificially increase the amount of data present in our model. By randomly rotating and zooming each image, we are training the model harder and as a result, resulting in higher accuracy.\n",
        "\n",
        "#### Part B - (4)\n",
        "\n",
        "Using dropout regularization on the dense layers of the model showcased an increase in the validation and test accuracy. However, while training, the training accuracy was much lower compared to when the training was done without the dropout layer in the model. The amount of loss experienced with dropout is also higher when compared to without.\n"
      ],
      "metadata": {
        "id": "4uvhN_m8e3ru"
      }
    }
  ]
}